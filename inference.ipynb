{
 "cells": [
  {
   "cell_type": "code",
   "execution_count": 11,
   "metadata": {},
   "outputs": [],
   "source": [
    "from diffusers import StableDiffusionControlNetPipeline, ControlNetModel, UniPCMultistepScheduler,StableDiffusionPipeline\n",
    "from diffusers.utils import load_image\n",
    "import torch\n",
    "import os\n",
    "import numpy as np\n",
    "import sys\n",
    "from tqdm import tqdm"
   ]
  },
  {
   "cell_type": "code",
   "execution_count": 12,
   "metadata": {},
   "outputs": [],
   "source": [
    "# base_model_path = \"stabilityai/stable-diffusion-2-1\"\n",
    "base_model_path = \"runwayml/stable-diffusion-v1-5\"\n",
    "# controlnet_path = \"output_sd15_2/checkpoint-19200/controlnet/\" #river\n",
    "controlnet_path = \"output_sd15_road_2/checkpoint-21600/controlnet/\" #road"
   ]
  },
  {
   "cell_type": "code",
   "execution_count": 21,
   "metadata": {},
   "outputs": [],
   "source": [
    "img_type = \"road\"\n",
    "prefix_path = f\"/home/swc/AICUP_generative/training/{img_type}/train/\"\n",
    "train_path = f\"training/{img_type}/train/\"\n",
    "img_path = f\"training/{img_type}/train/images/\"\n",
    "conditioning_img_path = f\"training/{img_type}/train/conditioning_images/\"\n",
    "img_list = os.listdir(img_path)\n",
    "img_list.sort()\n",
    "conditioning_img_list = os.listdir(conditioning_img_path)\n",
    "conditioning_img_list.sort()\n",
    "\n",
    "# test_path = f\"testing_private/label_img/{img_type}/\" #river\n",
    "test_path = f\"testing_private/rotate_img/{img_type}/\" #road\n",
    "conditioning_test_img_list = os.listdir(test_path)\n",
    "conditioning_test_img_list.sort()"
   ]
  },
  {
   "cell_type": "code",
   "execution_count": 15,
   "metadata": {},
   "outputs": [
    {
     "data": {
      "text/plain": [
       "'cuda'"
      ]
     },
     "execution_count": 15,
     "metadata": {},
     "output_type": "execute_result"
    }
   ],
   "source": [
    "device = \"cuda\" if torch.cuda.is_available() else \"cpu\"\n",
    "device"
   ]
  },
  {
   "cell_type": "code",
   "execution_count": 16,
   "metadata": {},
   "outputs": [
    {
     "name": "stderr",
     "output_type": "stream",
     "text": [
      "Some weights of the model checkpoint were not used when initializing CLIPTextModel: \n",
      " ['text_model.embeddings.position_ids']\n",
      "You have disabled the safety checker for <class 'diffusers.pipelines.controlnet.pipeline_controlnet.StableDiffusionControlNetPipeline'> by passing `safety_checker=None`. Ensure that you abide to the conditions of the Stable Diffusion license and do not expose unfiltered results in services or applications open to the public. Both the diffusers team and Hugging Face strongly recommend to keep the safety filter enabled in all public facing circumstances, disabling it only for use-cases that involve analyzing network behavior or auditing its results. For more information, please have a look at https://github.com/huggingface/diffusers/pull/254 .\n"
     ]
    }
   ],
   "source": [
    "controlnet = ControlNetModel.from_pretrained(\n",
    "    controlnet_path, torch_dtype=torch.float16\n",
    ").to(device)\n",
    "# pipe = StableDiffusionControlNetPipeline.from_pretrained(\n",
    "#     base_model_path, controlnet=controlnet, torch_dtype=torch.float16\n",
    "# ).to(device)\n",
    "pipe = StableDiffusionControlNetPipeline.from_single_file(\n",
    "    \"beautifulrealityv3_full.safetensors\",\n",
    "    controlnet=controlnet,\n",
    "    torch_dtype=torch.float16,\n",
    "    use_safetensors=True,\n",
    ")"
   ]
  },
  {
   "cell_type": "code",
   "execution_count": 17,
   "metadata": {},
   "outputs": [
    {
     "name": "stderr",
     "output_type": "stream",
     "text": [
      "It seems like you have activated model offloading by calling `enable_model_cpu_offload`, but are now manually moving the pipeline to GPU. It is strongly recommended against doing so as memory gains from offloading are likely to be lost. Offloading automatically takes care of moving the individual components vae, text_encoder, tokenizer, unet, controlnet, scheduler, safety_checker, feature_extractor, image_encoder to GPU when needed. To make sure offloading works as expected, you should consider moving the pipeline back to CPU: `pipeline.to('cpu')` or removing the move altogether if you use offloading.\n"
     ]
    }
   ],
   "source": [
    "# speed up diffusion process with faster scheduler and memory optimization\n",
    "pipe.scheduler = UniPCMultistepScheduler.from_config(pipe.scheduler.config)\n",
    "# remove following line if xformers is not installed or when using Torch 2.0.\n",
    "pipe.enable_xformers_memory_efficient_attention()\n",
    "# memory optimization.\n",
    "pipe.enable_model_cpu_offload()\n",
    "\n",
    "pipe.set_progress_bar_config(disable=True)\n",
    "\n",
    "# load lora\n",
    "# pipe.unet.load_attn_procs(\"sd15_lora/checkpoint-51840/pytorch_lora_weights.safetensors\") \n",
    "\n",
    "pipe = pipe.to(\"cuda\")"
   ]
  },
  {
   "cell_type": "code",
   "execution_count": 18,
   "metadata": {},
   "outputs": [
    {
     "data": {
      "image/jpeg": "[encoded data removed]",
      "image/png": "[encoded data removed]",
      "text/plain": [
       "<PIL.Image.Image image mode=RGB size=428x240>"
      ]
     },
     "execution_count": 18,
     "metadata": {},
     "output_type": "execute_result"
    }
   ],
   "source": [
    "conditioning_img = test_path+conditioning_test_img_list[0]\n",
    "load_image(conditioning_img)"
   ]
  },
  {
   "cell_type": "code",
   "execution_count": 24,
   "metadata": {},
   "outputs": [
    {
     "name": "stderr",
     "output_type": "stream",
     "text": [
      "100%|██████████| 360/360 [20:44<00:00,  3.46s/it]\n"
     ]
    }
   ],
   "source": [
    "for img_file in tqdm(conditioning_test_img_list):\n",
    "    conditioning_img_path = test_path + img_file\n",
    "    control_image = load_image(conditioning_img_path)\n",
    "    prompt = \"road with lush grove\"\n",
    "    # prompt = \"river with muddy and light earth color water, aerial view, field, lush shore, gress\" # for river\n",
    "    negative_prompt = \"bridge, sand, tall trees, sandbank, worst quality, jpeg artifacts, mutation, duplicate, car\" # for river\n",
    "    # generate 10 sample image\n",
    "    for i in range(1):\n",
    "        generator = torch.manual_seed(i)\n",
    "        image = pipe(\n",
    "            prompt,\n",
    "            negative_prompt=negative_prompt,\n",
    "            num_inference_steps=20,\n",
    "            generator=generator,\n",
    "            image=control_image,\n",
    "        ).images[0]\n",
    "        image.save(f\"private_output/{img_type}/\" + img_file.split(\".\")[0] + f\"-{i}.jpg\")"
   ]
  }
 ],
 "metadata": {
  "kernelspec": {
   "display_name": "venv",
   "language": "python",
   "name": "python3"
  },
  "language_info": {
   "codemirror_mode": {
    "name": "ipython",
    "version": 3
   },
   "file_extension": ".py",
   "mimetype": "text/x-python",
   "name": "python",
   "nbconvert_exporter": "python",
   "pygments_lexer": "ipython3",
   "version": "3.8.18"
  }
 },
 "nbformat": 4,
 "nbformat_minor": 2
}
