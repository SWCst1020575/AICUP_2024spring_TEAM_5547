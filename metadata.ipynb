{
 "cells": [
  {
   "cell_type": "markdown",
   "metadata": {},
   "source": [
    "# Generate metadata for training data"
   ]
  },
  {
   "cell_type": "code",
   "execution_count": 1,
   "metadata": {},
   "outputs": [
    {
     "name": "stderr",
     "output_type": "stream",
     "text": [
      "/home/swc/AICUP_generative/venv/lib/python3.8/site-packages/tqdm/auto.py:21: TqdmWarning: IProgress not found. Please update jupyter and ipywidgets. See https://ipywidgets.readthedocs.io/en/stable/user_install.html\n",
      "  from .autonotebook import tqdm as notebook_tqdm\n"
     ]
    }
   ],
   "source": [
    "import os\n",
    "import json\n",
    "from PIL import Image\n",
    "import numpy as np\n",
    "from transformers import Blip2Processor, Blip2ForConditionalGeneration,BitsAndBytesConfig\n",
    "import torch\n",
    "from tqdm import tqdm"
   ]
  },
  {
   "cell_type": "code",
   "execution_count": 6,
   "metadata": {},
   "outputs": [],
   "source": [
    "img_type = \"river\"\n",
    "prefix_path = f\"/home/swc/AICUP_generative/training/{img_type}/train/\"\n",
    "train_path = f\"training/{img_type}/train/\"\n",
    "img_path = f\"training/{img_type}/train/images/\"\n",
    "conditioning_img_path = f\"training/{img_type}/train/conditioning_images/\"\n",
    "img_list = os.listdir(img_path)\n",
    "img_list.sort()\n",
    "conditioning_img_list = os.listdir(conditioning_img_path)\n",
    "conditioning_img_list.sort()"
   ]
  },
  {
   "cell_type": "code",
   "execution_count": 29,
   "metadata": {},
   "outputs": [
    {
     "data": {
      "text/plain": [
       "'cuda'"
      ]
     },
     "execution_count": 29,
     "metadata": {},
     "output_type": "execute_result"
    }
   ],
   "source": [
    "device = \"cuda\" if torch.cuda.is_available() else \"cpu\"\n",
    "device"
   ]
  },
  {
   "cell_type": "code",
   "execution_count": 30,
   "metadata": {},
   "outputs": [
    {
     "name": "stderr",
     "output_type": "stream",
     "text": [
      "Loading checkpoint shards: 100%|██████████| 4/4 [00:35<00:00,  8.85s/it]\n"
     ]
    }
   ],
   "source": [
    "base_model = \"Salesforce/blip2-opt-6.7b-coco\"\n",
    "quantization_config = BitsAndBytesConfig(load_in_8bit=True,llm_int8_enable_fp32_cpu_offload=True)\n",
    "processor = Blip2Processor.from_pretrained(base_model)\n",
    "model = Blip2ForConditionalGeneration.from_pretrained(\n",
    "    base_model,\n",
    "    quantization_config=quantization_config,\n",
    "    torch_dtype=torch.float16,\n",
    "    device_map=\"auto\",\n",
    ")"
   ]
  },
  {
   "cell_type": "markdown",
   "metadata": {},
   "source": [
    "## Generate prompt to metadata"
   ]
  },
  {
   "cell_type": "markdown",
   "metadata": {},
   "source": [
    "### For river"
   ]
  },
  {
   "cell_type": "markdown",
   "metadata": {},
   "source": [
    "圖像翻轉，生成資料"
   ]
  },
  {
   "cell_type": "code",
   "execution_count": 3,
   "metadata": {},
   "outputs": [
    {
     "data": {
      "text/plain": [
       "['a', 'png']"
      ]
     },
     "execution_count": 3,
     "metadata": {},
     "output_type": "execute_result"
    }
   ],
   "source": [
    "\"a.png\".split(\".\")"
   ]
  },
  {
   "cell_type": "code",
   "execution_count": 4,
   "metadata": {},
   "outputs": [
    {
     "name": "stderr",
     "output_type": "stream",
     "text": [
      "100%|██████████| 2160/2160 [00:06<00:00, 322.91it/s]\n"
     ]
    }
   ],
   "source": [
    "with tqdm(total=len(img_list)) as pbar:\n",
    "    for img, conditioning_img in zip(img_list, conditioning_img_list):\n",
    "        pbar.update(1)\n",
    "        img_pil = Image.open(img_path + img)\n",
    "        new_img_name = img.split(\".\")\n",
    "        img_pil.transpose(Image.FLIP_LEFT_RIGHT).save(f\"{img_path}{new_img_name[0]}_flip.{new_img_name[1]}\")\n",
    "        conditioning_img_pil = Image.open(conditioning_img_path + conditioning_img)\n",
    "        new_img_name = conditioning_img.split(\".\")\n",
    "        conditioning_img_pil.transpose(Image.FLIP_LEFT_RIGHT).save(f\"{conditioning_img_path}{new_img_name[0]}_flip.{new_img_name[1]}\")\n"
   ]
  },
  {
   "cell_type": "markdown",
   "metadata": {},
   "source": [
    "區分俯瞰和河岸"
   ]
  },
  {
   "cell_type": "code",
   "execution_count": 7,
   "metadata": {},
   "outputs": [
    {
     "name": "stderr",
     "output_type": "stream",
     "text": [
      "100%|██████████| 4320/4320 [00:02<00:00, 1881.80it/s]\n"
     ]
    }
   ],
   "source": [
    "with tqdm(total=len(img_list)) as pbar:\n",
    "    if img_type == \"river\":\n",
    "        progress = 0\n",
    "        with open(f\"{train_path}/metadata.jsonl\", \"w\") as f:\n",
    "            for img, conditioning_img in zip(img_list, conditioning_img_list):\n",
    "                pbar.update(1)\n",
    "                \n",
    "                img_mat_pil = Image.open(conditioning_img_path + conditioning_img)\n",
    "                img_mat = np.array(img_mat_pil)\n",
    "                prompt = \"river, \"\n",
    "                for row in img_mat:\n",
    "                    row = row[:, 0]\n",
    "                    if row.max() > 128:\n",
    "                        if row[0] > 128 or row[-1] > 128:\n",
    "                            prompt += \"lush shore\"\n",
    "                        else:\n",
    "                            prompt += \"rural ,aerial view\"\n",
    "                    break\n",
    "                line = {\n",
    "                    \"file_name\": f\"images/{img}\",\n",
    "                    \"image\": f\"{prefix_path}images/{img}\",\n",
    "                    \"conditioning_image\": f\"{prefix_path}conditioning_images/{conditioning_img}\",\n",
    "                    \"text\": prompt,\n",
    "                }\n",
    "                f.write(json.dumps(line) + \"\\n\")\n",
    "                line = {\n",
    "                    \"file_name\": f\"conditioning_images/{conditioning_img}\",\n",
    "                    \"image\": f\"{prefix_path}images/{img}\",\n",
    "                    \"conditioning_image\": f\"{prefix_path}conditioning_images/{conditioning_img}\",\n",
    "                    \"text\": prompt,\n",
    "                }\n",
    "                f.write(json.dumps(line) + \"\\n\")"
   ]
  },
  {
   "cell_type": "markdown",
   "metadata": {},
   "source": [
    "### For road\n",
    "翻轉顛倒的圖片"
   ]
  },
  {
   "cell_type": "code",
   "execution_count": 2,
   "metadata": {},
   "outputs": [],
   "source": [
    "img_type = \"road\"\n",
    "prefix_path = f\"/home/swc/AICUP_generative/training/{img_type}/train/\"\n",
    "train_path = f\"training/{img_type}/train/\"\n",
    "img_path = f\"training/{img_type}/train/images/\"\n",
    "conditioning_img_path = f\"training/{img_type}/train/conditioning_images/\"\n",
    "img_list = os.listdir(img_path)\n",
    "img_list.sort()\n",
    "conditioning_img_list = os.listdir(conditioning_img_path)\n",
    "conditioning_img_list.sort()"
   ]
  },
  {
   "cell_type": "markdown",
   "metadata": {},
   "source": [
    "- 翻轉"
   ]
  },
  {
   "cell_type": "code",
   "execution_count": 28,
   "metadata": {},
   "outputs": [
    {
     "name": "stderr",
     "output_type": "stream",
     "text": [
      "100%|██████████| 2160/2160 [00:03<00:00, 719.15it/s] \n"
     ]
    }
   ],
   "source": [
    "with tqdm(total=len(img_list)) as pbar:\n",
    "    if img_type == \"road\":\n",
    "        progress = 0\n",
    "        \n",
    "        for img, conditioning_img in zip(img_list, conditioning_img_list):\n",
    "            pbar.update(1)\n",
    "            \n",
    "            img_mat_pil = Image.open(conditioning_img_path + conditioning_img)\n",
    "            img_mat = np.array(img_mat_pil)\n",
    "            for i in range(img_mat.shape[0]):\n",
    "                if (img_mat[i,:]>128).sum()>0 :\n",
    "                    top_of_road = i\n",
    "                    break\n",
    "            for i in range(img_mat.shape[0]-1,-1,-1):\n",
    "                if (img_mat[i,:]>128).sum()>0 :\n",
    "                    bottom_of_road = i\n",
    "                    break\n",
    "            if (img_mat[top_of_road,:,0]>128).sum() > (img_mat[bottom_of_road,:,0]>128).sum():\n",
    "                img_mat_pil.rotate(180).save(conditioning_img_path + conditioning_img)\n",
    "                img_pil = Image.open(img_path +img)\n",
    "                img_pil.rotate(180).save(img_path + img)"
   ]
  },
  {
   "cell_type": "markdown",
   "metadata": {},
   "source": [
    "- 生成metadata"
   ]
  },
  {
   "cell_type": "code",
   "execution_count": 41,
   "metadata": {},
   "outputs": [
    {
     "name": "stderr",
     "output_type": "stream",
     "text": [
      "100%|██████████| 2160/2160 [1:26:54<00:00,  2.41s/it]\n"
     ]
    }
   ],
   "source": [
    "with tqdm(total=len(img_list)) as pbar:\n",
    "    if img_type == \"road\":\n",
    "        progress = 0\n",
    "        with open(f\"{train_path}/metadata.jsonl\", \"w\") as f:\n",
    "            for img, conditioning_img in zip(img_list, conditioning_img_list):\n",
    "                pbar.update(1)\n",
    "                \n",
    "                img_pil = Image.open(img_path + img)\n",
    "                inputs = processor(\n",
    "                                images=img_pil, text=\"river\", return_tensors=\"pt\"\n",
    "                            ).to(device, torch.float16)\n",
    "                generated_ids = model.generate(**inputs)\n",
    "                generated_text = processor.batch_decode(\n",
    "                                generated_ids, skip_special_tokens=True\n",
    "                            )[0].strip()\n",
    "                prompt = \"road\"\n",
    "                if \"motorcycle\" in generated_text:\n",
    "                    prompt+=\", motorcycle\"\n",
    "                if \"car\" in generated_text:\n",
    "                    prompt+=\", car\"\n",
    "                \n",
    "                line = {\n",
    "                    \"file_name\": f\"images/{img}\",\n",
    "                    \"image\": f\"{prefix_path}images/{img}\",\n",
    "                    \"conditioning_image\": f\"{prefix_path}conditioning_images/{conditioning_img}\",\n",
    "                    \"text\": prompt,\n",
    "                }\n",
    "                f.write(json.dumps(line) + \"\\n\")\n",
    "                line = {\n",
    "                    \"file_name\": f\"conditioning_images/{conditioning_img}\",\n",
    "                    \"image\": f\"{prefix_path}images/{img}\",\n",
    "                    \"conditioning_image\": f\"{prefix_path}conditioning_images/{conditioning_img}\",\n",
    "                    \"text\": prompt,\n",
    "                }\n",
    "                f.write(json.dumps(line) + \"\\n\")"
   ]
  }
 ],
 "metadata": {
  "kernelspec": {
   "display_name": "venv",
   "language": "python",
   "name": "python3"
  },
  "language_info": {
   "codemirror_mode": {
    "name": "ipython",
    "version": 3
   },
   "file_extension": ".py",
   "mimetype": "text/x-python",
   "name": "python",
   "nbconvert_exporter": "python",
   "pygments_lexer": "ipython3",
   "version": "3.8.18"
  }
 },
 "nbformat": 4,
 "nbformat_minor": 2
}
