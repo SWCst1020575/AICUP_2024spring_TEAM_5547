{
 "cells": [
  {
   "cell_type": "code",
   "execution_count": 1,
   "metadata": {},
   "outputs": [],
   "source": [
    "import os\n",
    "from tqdm import tqdm\n",
    "from PIL import Image\n",
    "import numpy as np"
   ]
  },
  {
   "cell_type": "code",
   "execution_count": 7,
   "metadata": {},
   "outputs": [],
   "source": [
    "img_type = \"road\"\n",
    "\n",
    "testing_path = f\"testing_private/label_img/{img_type}/\"\n",
    "output_for_rotate_path = f\"testing_private/rotate_img/{img_type}/\"\n",
    "conditioning_test_img_list = os.listdir(testing_path)\n",
    "conditioning_test_img_list.sort()"
   ]
  },
  {
   "cell_type": "markdown",
   "metadata": {},
   "source": [
    "## Preprocessing before inference\n",
    "- Rotate road conditional image"
   ]
  },
  {
   "cell_type": "code",
   "execution_count": 8,
   "metadata": {},
   "outputs": [
    {
     "name": "stderr",
     "output_type": "stream",
     "text": [
      "100%|██████████| 360/360 [00:00<00:00, 391.38it/s]\n"
     ]
    }
   ],
   "source": [
    "for conditioning_img in tqdm(conditioning_test_img_list):\n",
    "    img_mat_pil = Image.open(testing_path + conditioning_img)\n",
    "    img_mat = np.array(img_mat_pil)\n",
    "    for i in range(img_mat.shape[0]):\n",
    "        if (img_mat[i, :] > 128).sum() > 0:\n",
    "            top_of_road = i\n",
    "            break\n",
    "    for i in range(img_mat.shape[0] - 1, -1, -1):\n",
    "        if (img_mat[i, :] > 128).sum() > 0:\n",
    "            bottom_of_road = i\n",
    "            break\n",
    "    if (img_mat[top_of_road, :, 0] > 128).sum() > (\n",
    "        img_mat[bottom_of_road, :, 0] > 128\n",
    "    ).sum():\n",
    "        img_mat_pil.rotate(180).save(\n",
    "            output_for_rotate_path + conditioning_img.split(\".\")[0] + \"_flip.png\"\n",
    "        )\n",
    "    else:\n",
    "        img_mat_pil.save(output_for_rotate_path + conditioning_img)"
   ]
  },
  {
   "cell_type": "markdown",
   "metadata": {},
   "source": [
    "## Postprocessing\n",
    "- Resize to 428x240 (generated image is 424x240)\n",
    "- Rotate road image\n",
    "- Rename of image"
   ]
  },
  {
   "cell_type": "code",
   "execution_count": 9,
   "metadata": {},
   "outputs": [],
   "source": [
    "img_type = \"road\"\n",
    "\n",
    "output_path = f\"public_output/{img_type}/\"\n",
    "output_final_path = f\"public_output/final_output/{img_type}/\"\n",
    "output_img_list = os.listdir(output_path)\n",
    "output_img_list.sort()"
   ]
  },
  {
   "cell_type": "code",
   "execution_count": 10,
   "metadata": {},
   "outputs": [
    {
     "name": "stderr",
     "output_type": "stream",
     "text": [
      "  0%|          | 0/360 [00:00<?, ?it/s]"
     ]
    },
    {
     "name": "stderr",
     "output_type": "stream",
     "text": [
      "100%|██████████| 360/360 [00:00<00:00, 742.40it/s]\n"
     ]
    }
   ],
   "source": [
    "for img_file in tqdm(output_img_list):\n",
    "    img_pil = Image.open(output_path + img_file)\n",
    "    img_pil = img_pil.resize((428, 240))\n",
    "    new_img_file = img_file\n",
    "    if \"-\" in new_img_file:\n",
    "        new_img_file = new_img_file.split(\"-\")[0] + \".jpg\"\n",
    "    if \"flip\" in new_img_file:\n",
    "        new_img_file = img_file.split(\"_flip\")[0] + \".jpg\"\n",
    "        img_pil.rotate(180).save(output_final_path + new_img_file)\n",
    "    else:\n",
    "        img_pil.save(output_final_path + new_img_file)"
   ]
  }
 ],
 "metadata": {
  "kernelspec": {
   "display_name": "venv",
   "language": "python",
   "name": "python3"
  },
  "language_info": {
   "codemirror_mode": {
    "name": "ipython",
    "version": 3
   },
   "file_extension": ".py",
   "mimetype": "text/x-python",
   "name": "python",
   "nbconvert_exporter": "python",
   "pygments_lexer": "ipython3",
   "version": "3.8.18"
  }
 },
 "nbformat": 4,
 "nbformat_minor": 2
}
