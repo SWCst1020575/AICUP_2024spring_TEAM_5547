{
 "cells": [
  {
   "cell_type": "code",
   "execution_count": 135,
   "metadata": {},
   "outputs": [],
   "source": [
    "import os\n",
    "import json"
   ]
  },
  {
   "cell_type": "code",
   "execution_count": 137,
   "metadata": {},
   "outputs": [],
   "source": [
    "img_type = \"road\"\n",
    "prefix_path = f\"/home/swc/AICUP_generative/training/{img_type}/train/\"\n",
    "train_path = f\"training/{img_type}/train/\"\n",
    "img_path = f\"training/{img_type}/train/images/\"\n",
    "conditioning_img_path = f\"training/{img_type}/train/conditioning_images/\"\n",
    "img_list = os.listdir(img_path)\n",
    "img_list.sort()\n",
    "conditioning_img_list = os.listdir(conditioning_img_path)\n",
    "conditioning_img_list.sort()"
   ]
  },
  {
   "cell_type": "code",
   "execution_count": 138,
   "metadata": {},
   "outputs": [],
   "source": [
    "with open(f\"{train_path}/metadata.jsonl\", \"w\") as f:\n",
    "    for img, conditioning_img in zip(img_list, conditioning_img_list):\n",
    "        line = {\n",
    "            \"file_name\": f\"images/{img}\",\n",
    "            \"image\": f\"{prefix_path}images/{img}\",\n",
    "            \"conditioning_image\": f\"{prefix_path}conditioning_images/{conditioning_img}\",\n",
    "            \"text\": img_type,\n",
    "        }\n",
    "        f.write(json.dumps(line) + \"\\n\")\n",
    "    for img, conditioning_img in zip(img_list, conditioning_img_list):\n",
    "        line = {\n",
    "            \"file_name\": f\"conditioning_images/{conditioning_img}\",\n",
    "            \"image\": f\"{prefix_path}images/{img}\",\n",
    "            \"conditioning_image\": f\"{prefix_path}conditioning_images/{conditioning_img}\",\n",
    "            \"text\": img_type,\n",
    "        }\n",
    "        f.write(json.dumps(line) + \"\\n\")"
   ]
  }
 ],
 "metadata": {
  "kernelspec": {
   "display_name": "venv",
   "language": "python",
   "name": "python3"
  },
  "language_info": {
   "codemirror_mode": {
    "name": "ipython",
    "version": 3
   },
   "file_extension": ".py",
   "mimetype": "text/x-python",
   "name": "python",
   "nbconvert_exporter": "python",
   "pygments_lexer": "ipython3",
   "version": "3.8.18"
  }
 },
 "nbformat": 4,
 "nbformat_minor": 2
}
